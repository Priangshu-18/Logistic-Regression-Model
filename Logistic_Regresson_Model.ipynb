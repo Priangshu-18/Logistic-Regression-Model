{
  "nbformat": 4,
  "nbformat_minor": 0,
  "metadata": {
    "colab": {
      "provenance": [],
      "authorship_tag": "ABX9TyNbodTpc+KGyLRKVEdvOaWW",
      "include_colab_link": true
    },
    "kernelspec": {
      "name": "python3",
      "display_name": "Python 3"
    },
    "language_info": {
      "name": "python"
    }
  },
  "cells": [
    {
      "cell_type": "markdown",
      "metadata": {
        "id": "view-in-github",
        "colab_type": "text"
      },
      "source": [
        "<a href=\"https://colab.research.google.com/github/Priangshu-18/Logistic-Regression-Model/blob/main/Logistic_Regresson_Model.ipynb\" target=\"_parent\"><img src=\"https://colab.research.google.com/assets/colab-badge.svg\" alt=\"Open In Colab\"/></a>"
      ]
    },
    {
      "cell_type": "markdown",
      "source": [
        "![OIP.jpg](data:image/jpeg;base64,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)"
      ],
      "metadata": {
        "id": "1DgtCbm4vukB"
      }
    },
    {
      "cell_type": "markdown",
      "source": [
        "The z = wx + b in the sigmoid function"
      ],
      "metadata": {
        "id": "X8gVtgpny0WO"
      }
    },
    {
      "cell_type": "code",
      "execution_count": 1,
      "metadata": {
        "id": "mTzZN9q3vJJo"
      },
      "outputs": [],
      "source": [
        "import numpy as np"
      ]
    },
    {
      "cell_type": "markdown",
      "source": [
        "**Logistic Regression**"
      ],
      "metadata": {
        "id": "zxppQQHjv323"
      }
    },
    {
      "cell_type": "code",
      "source": [
        "class Logistic_Regression():\n",
        "\n",
        "  # declaring the learning rate and no of iterations (Hyperparameters)\n",
        "  def __init__(self, learning_rate, no_of_iterations):\n",
        "    self.learning_rate = learning_rate\n",
        "    self.no_of_iterations = no_of_iterations\n",
        "\n",
        "  # training the model with the values of the dataset\n",
        "  def fit(self, X, Y):\n",
        "\n",
        "    # m -> no of rows and n -> no of columns\n",
        "    self.m, self.n = X.shape\n",
        "\n",
        "    # initiating the weight and bias value\n",
        "    self.w = np.zeros(self.n)\n",
        "    self.b = 0\n",
        "    self.X = X\n",
        "    self.Y = Y\n",
        "\n",
        "    # Initializing Gradient descent algorithm\n",
        "    for i in range(no_of_iterations):\n",
        "      self.update_weight()\n",
        "\n",
        "  # Implementing Gradient descent algorithm\n",
        "  def update_weight(self):\n",
        "\n",
        "    # sigmoid function\n",
        "    Y_hat = 1 / (1 + np.exp(-(self.X.dot(self.w) + self.b))) # self.X.dot(self.w) + self.b = wx + b\n",
        "\n",
        "    # derivatives\n",
        "    dw = (1/self.m)*np.dot(self.X.T, (Y_hat - self.Y))\n",
        "    db = (1/self.m)*np.sum(Y_hat - self.Y)\n",
        "\n",
        "    # updating the weights and bias using gradient descent equation\n",
        "    self.w = self.w - self.learning_rate * dw\n",
        "    self.b = self.b - self.learning_rate * db\n",
        "\n",
        "  # writing the sigmoid equation\n",
        "  def predict(self, X):\n",
        "\n",
        "    Y_prediction = 1 / (1 + np.exp(-(self.X.dot(self.w) + self.b)))\n",
        "    Y_prediction = np.where(Y_prediction > 0.5, 1, 0)\n",
        "    return Y_prediction"
      ],
      "metadata": {
        "id": "b5SIKTQGv1--"
      },
      "execution_count": 3,
      "outputs": []
    },
    {
      "cell_type": "code",
      "source": [],
      "metadata": {
        "id": "mW4uvrTH0F5A"
      },
      "execution_count": null,
      "outputs": []
    }
  ]
}